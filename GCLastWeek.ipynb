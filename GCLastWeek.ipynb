{
 "cells": [
  {
   "cell_type": "code",
   "execution_count": 134,
   "id": "235d17d1",
   "metadata": {},
   "outputs": [],
   "source": [
    "import pandas as pd\n",
    "import numpy as np"
   ]
  },
  {
   "cell_type": "code",
   "execution_count": 135,
   "id": "4f24c362",
   "metadata": {},
   "outputs": [],
   "source": [
    "df = pd.read_csv('Drug200.csv')"
   ]
  },
  {
   "cell_type": "code",
   "execution_count": 136,
   "id": "64987b4e",
   "metadata": {},
   "outputs": [
    {
     "data": {
      "text/html": [
       "<div>\n",
       "<style scoped>\n",
       "    .dataframe tbody tr th:only-of-type {\n",
       "        vertical-align: middle;\n",
       "    }\n",
       "\n",
       "    .dataframe tbody tr th {\n",
       "        vertical-align: top;\n",
       "    }\n",
       "\n",
       "    .dataframe thead th {\n",
       "        text-align: right;\n",
       "    }\n",
       "</style>\n",
       "<table border=\"1\" class=\"dataframe\">\n",
       "  <thead>\n",
       "    <tr style=\"text-align: right;\">\n",
       "      <th></th>\n",
       "      <th>Age</th>\n",
       "      <th>Sex</th>\n",
       "      <th>BP</th>\n",
       "      <th>Cholesterol</th>\n",
       "      <th>Na_to_K</th>\n",
       "      <th>Drug</th>\n",
       "    </tr>\n",
       "  </thead>\n",
       "  <tbody>\n",
       "    <tr>\n",
       "      <th>0</th>\n",
       "      <td>23</td>\n",
       "      <td>F</td>\n",
       "      <td>HIGH</td>\n",
       "      <td>HIGH</td>\n",
       "      <td>25.355</td>\n",
       "      <td>DrugY</td>\n",
       "    </tr>\n",
       "    <tr>\n",
       "      <th>1</th>\n",
       "      <td>47</td>\n",
       "      <td>M</td>\n",
       "      <td>LOW</td>\n",
       "      <td>HIGH</td>\n",
       "      <td>13.093</td>\n",
       "      <td>drugC</td>\n",
       "    </tr>\n",
       "    <tr>\n",
       "      <th>2</th>\n",
       "      <td>47</td>\n",
       "      <td>M</td>\n",
       "      <td>LOW</td>\n",
       "      <td>HIGH</td>\n",
       "      <td>10.114</td>\n",
       "      <td>drugC</td>\n",
       "    </tr>\n",
       "    <tr>\n",
       "      <th>3</th>\n",
       "      <td>28</td>\n",
       "      <td>F</td>\n",
       "      <td>NORMAL</td>\n",
       "      <td>HIGH</td>\n",
       "      <td>7.798</td>\n",
       "      <td>drugX</td>\n",
       "    </tr>\n",
       "    <tr>\n",
       "      <th>4</th>\n",
       "      <td>61</td>\n",
       "      <td>F</td>\n",
       "      <td>LOW</td>\n",
       "      <td>HIGH</td>\n",
       "      <td>18.043</td>\n",
       "      <td>DrugY</td>\n",
       "    </tr>\n",
       "  </tbody>\n",
       "</table>\n",
       "</div>"
      ],
      "text/plain": [
       "   Age Sex      BP Cholesterol  Na_to_K   Drug\n",
       "0   23   F    HIGH        HIGH   25.355  DrugY\n",
       "1   47   M     LOW        HIGH   13.093  drugC\n",
       "2   47   M     LOW        HIGH   10.114  drugC\n",
       "3   28   F  NORMAL        HIGH    7.798  drugX\n",
       "4   61   F     LOW        HIGH   18.043  DrugY"
      ]
     },
     "execution_count": 136,
     "metadata": {},
     "output_type": "execute_result"
    }
   ],
   "source": [
    "df.head()"
   ]
  },
  {
   "cell_type": "code",
   "execution_count": 137,
   "id": "7b06a4f9",
   "metadata": {},
   "outputs": [
    {
     "data": {
      "text/plain": [
       "47    8\n",
       "23    7\n",
       "28    7\n",
       "49    7\n",
       "39    6\n",
       "Name: Age, dtype: int64"
      ]
     },
     "execution_count": 137,
     "metadata": {},
     "output_type": "execute_result"
    }
   ],
   "source": [
    "df['Age'].value_counts().head()"
   ]
  },
  {
   "cell_type": "code",
   "execution_count": 138,
   "id": "78121b61",
   "metadata": {},
   "outputs": [
    {
     "data": {
      "text/plain": [
       "M    104\n",
       "F     96\n",
       "Name: Sex, dtype: int64"
      ]
     },
     "execution_count": 138,
     "metadata": {},
     "output_type": "execute_result"
    }
   ],
   "source": [
    "df['Sex'].value_counts()"
   ]
  },
  {
   "cell_type": "code",
   "execution_count": 139,
   "id": "f01c5f7e",
   "metadata": {},
   "outputs": [
    {
     "data": {
      "text/plain": [
       "HIGH      77\n",
       "LOW       64\n",
       "NORMAL    59\n",
       "Name: BP, dtype: int64"
      ]
     },
     "execution_count": 139,
     "metadata": {},
     "output_type": "execute_result"
    }
   ],
   "source": [
    "df['BP'].value_counts()"
   ]
  },
  {
   "cell_type": "code",
   "execution_count": 140,
   "id": "7ccac317",
   "metadata": {},
   "outputs": [
    {
     "data": {
      "text/plain": [
       "HIGH      103\n",
       "NORMAL     97\n",
       "Name: Cholesterol, dtype: int64"
      ]
     },
     "execution_count": 140,
     "metadata": {},
     "output_type": "execute_result"
    }
   ],
   "source": [
    "df['Cholesterol'].value_counts()"
   ]
  },
  {
   "cell_type": "code",
   "execution_count": 141,
   "id": "1c7130b5",
   "metadata": {},
   "outputs": [
    {
     "data": {
      "text/plain": [
       "12.9    6\n",
       "10.1    5\n",
       "11.3    5\n",
       "7.3     4\n",
       "9.7     4\n",
       "       ..\n",
       "8.4     1\n",
       "20.7    1\n",
       "29.9    1\n",
       "27.8    1\n",
       "11.6    1\n",
       "Name: Na_to_K, Length: 120, dtype: int64"
      ]
     },
     "execution_count": 141,
     "metadata": {},
     "output_type": "execute_result"
    }
   ],
   "source": [
    "df['Na_to_K'].round(1).value_counts()"
   ]
  },
  {
   "cell_type": "code",
   "execution_count": 142,
   "id": "61737508",
   "metadata": {},
   "outputs": [
    {
     "data": {
      "text/plain": [
       "DrugY    91\n",
       "drugX    54\n",
       "drugA    23\n",
       "drugC    16\n",
       "drugB    16\n",
       "Name: Drug, dtype: int64"
      ]
     },
     "execution_count": 142,
     "metadata": {},
     "output_type": "execute_result"
    }
   ],
   "source": [
    "df['Drug'].value_counts()"
   ]
  },
  {
   "cell_type": "code",
   "execution_count": 143,
   "id": "d49bda90",
   "metadata": {},
   "outputs": [
    {
     "data": {
      "text/plain": [
       "Age            0\n",
       "Sex            0\n",
       "BP             0\n",
       "Cholesterol    0\n",
       "Na_to_K        0\n",
       "Drug           0\n",
       "dtype: int64"
      ]
     },
     "execution_count": 143,
     "metadata": {},
     "output_type": "execute_result"
    }
   ],
   "source": [
    "df.isnull().sum()"
   ]
  },
  {
   "cell_type": "code",
   "execution_count": 144,
   "id": "affa1615-45aa-42f7-8ff2-4818be006aed",
   "metadata": {},
   "outputs": [],
   "source": [
    "df[\"Drug\"].replace({\"drugB\": \"DrugB\", \"drugC\": \"DrugC\",\"drugX\": \"DrugX\",\"drugA\": \"DrugA\"}, inplace=True)"
   ]
  },
  {
   "cell_type": "code",
   "execution_count": 145,
   "id": "8d12f5d2",
   "metadata": {},
   "outputs": [],
   "source": [
    "Drug = df.groupby(['Drug','Sex','Age']).sum()\n",
    "Drug.reset_index(inplace=True)"
   ]
  },
  {
   "cell_type": "code",
   "execution_count": 146,
   "id": "7e8eebf5",
   "metadata": {},
   "outputs": [],
   "source": [
    "import seaborn as sns\n",
    "import matplotlib.pyplot as plt\n",
    "%matplotlib inline\n",
    "plt.style.use('ggplot')"
   ]
  },
  {
   "cell_type": "code",
   "execution_count": 147,
   "id": "b7333c02-b7df-4d9e-991c-7dc17d3b7423",
   "metadata": {},
   "outputs": [
    {
     "data": {
      "text/plain": [
       "Drug \n",
       "DrugY    91\n",
       "DrugX    54\n",
       "DrugA    23\n",
       "DrugB    16\n",
       "DrugC    16\n",
       "dtype: int64"
      ]
     },
     "execution_count": 147,
     "metadata": {},
     "output_type": "execute_result"
    }
   ],
   "source": [
    "df[['Drug']].value_counts()"
   ]
  },
  {
   "cell_type": "code",
   "execution_count": 148,
   "id": "cc19fb0f-9e74-49a2-aef9-f49a6d1e6347",
   "metadata": {},
   "outputs": [
    {
     "data": {
      "text/html": [
       "<div>\n",
       "<style scoped>\n",
       "    .dataframe tbody tr th:only-of-type {\n",
       "        vertical-align: middle;\n",
       "    }\n",
       "\n",
       "    .dataframe tbody tr th {\n",
       "        vertical-align: top;\n",
       "    }\n",
       "\n",
       "    .dataframe thead th {\n",
       "        text-align: right;\n",
       "    }\n",
       "</style>\n",
       "<table border=\"1\" class=\"dataframe\">\n",
       "  <thead>\n",
       "    <tr style=\"text-align: right;\">\n",
       "      <th></th>\n",
       "      <th>Age</th>\n",
       "      <th>Sex</th>\n",
       "      <th>BP</th>\n",
       "      <th>Cholesterol</th>\n",
       "      <th>Na_to_K</th>\n",
       "      <th>Drug</th>\n",
       "    </tr>\n",
       "  </thead>\n",
       "  <tbody>\n",
       "    <tr>\n",
       "      <th>0</th>\n",
       "      <td>23</td>\n",
       "      <td>F</td>\n",
       "      <td>HIGH</td>\n",
       "      <td>HIGH</td>\n",
       "      <td>25.355</td>\n",
       "      <td>DrugY</td>\n",
       "    </tr>\n",
       "    <tr>\n",
       "      <th>1</th>\n",
       "      <td>47</td>\n",
       "      <td>M</td>\n",
       "      <td>LOW</td>\n",
       "      <td>HIGH</td>\n",
       "      <td>13.093</td>\n",
       "      <td>DrugC</td>\n",
       "    </tr>\n",
       "    <tr>\n",
       "      <th>2</th>\n",
       "      <td>47</td>\n",
       "      <td>M</td>\n",
       "      <td>LOW</td>\n",
       "      <td>HIGH</td>\n",
       "      <td>10.114</td>\n",
       "      <td>DrugC</td>\n",
       "    </tr>\n",
       "    <tr>\n",
       "      <th>3</th>\n",
       "      <td>28</td>\n",
       "      <td>F</td>\n",
       "      <td>NORMAL</td>\n",
       "      <td>HIGH</td>\n",
       "      <td>7.798</td>\n",
       "      <td>DrugX</td>\n",
       "    </tr>\n",
       "    <tr>\n",
       "      <th>4</th>\n",
       "      <td>61</td>\n",
       "      <td>F</td>\n",
       "      <td>LOW</td>\n",
       "      <td>HIGH</td>\n",
       "      <td>18.043</td>\n",
       "      <td>DrugY</td>\n",
       "    </tr>\n",
       "  </tbody>\n",
       "</table>\n",
       "</div>"
      ],
      "text/plain": [
       "   Age Sex      BP Cholesterol  Na_to_K   Drug\n",
       "0   23   F    HIGH        HIGH   25.355  DrugY\n",
       "1   47   M     LOW        HIGH   13.093  DrugC\n",
       "2   47   M     LOW        HIGH   10.114  DrugC\n",
       "3   28   F  NORMAL        HIGH    7.798  DrugX\n",
       "4   61   F     LOW        HIGH   18.043  DrugY"
      ]
     },
     "execution_count": 148,
     "metadata": {},
     "output_type": "execute_result"
    }
   ],
   "source": [
    "df.head()"
   ]
  },
  {
   "cell_type": "code",
   "execution_count": 149,
   "id": "250816b1-026a-4e49-b71d-ff2852630ca1",
   "metadata": {},
   "outputs": [],
   "source": [
    "Drug_Effects = df.groupby(['BP','Cholesterol','Na_to_K'])['BP'].size()\n",
    "Drug_Effects = Drug_Effects.unstack()"
   ]
  },
  {
   "cell_type": "code",
   "execution_count": 150,
   "id": "c8ccbbde-6500-44d3-b380-22cc9951d93c",
   "metadata": {},
   "outputs": [
    {
     "data": {
      "text/plain": [
       "Text(0.5, 1.0, 'Distribution of the ratio between Sodium and Potassium')"
      ]
     },
     "execution_count": 150,
     "metadata": {},
     "output_type": "execute_result"
    },
    {
     "data": {
      "image/png": "[encoded data removed]",
      "text/plain": [
       "<Figure size 432x288 with 1 Axes>"
      ]
     },
     "metadata": {},
     "output_type": "display_data"
    }
   ],
   "source": [
    "sns.histplot(df['Na_to_K'],bins=30,kde=True)\n",
    "plt.title('Distribution of the ratio between Sodium and Potassium',fontdict={'fontsize':'15'})"
   ]
  },
  {
   "cell_type": "code",
   "execution_count": 151,
   "id": "3e3e01c3-bd06-4e53-8cc3-d9c8b07ac1d2",
   "metadata": {},
   "outputs": [
    {
     "data": {
      "text/html": [
       "<div>\n",
       "<style scoped>\n",
       "    .dataframe tbody tr th:only-of-type {\n",
       "        vertical-align: middle;\n",
       "    }\n",
       "\n",
       "    .dataframe tbody tr th {\n",
       "        vertical-align: top;\n",
       "    }\n",
       "\n",
       "    .dataframe thead th {\n",
       "        text-align: right;\n",
       "    }\n",
       "</style>\n",
       "<table border=\"1\" class=\"dataframe\">\n",
       "  <thead>\n",
       "    <tr style=\"text-align: right;\">\n",
       "      <th></th>\n",
       "      <th>Na_to_K</th>\n",
       "      <th>6.269</th>\n",
       "      <th>6.683</th>\n",
       "      <th>6.769</th>\n",
       "      <th>7.261</th>\n",
       "      <th>7.285</th>\n",
       "      <th>7.298</th>\n",
       "      <th>7.340</th>\n",
       "      <th>7.477</th>\n",
       "      <th>7.490</th>\n",
       "      <th>7.761</th>\n",
       "      <th>...</th>\n",
       "      <th>31.686</th>\n",
       "      <th>31.876</th>\n",
       "      <th>32.922</th>\n",
       "      <th>33.486</th>\n",
       "      <th>33.542</th>\n",
       "      <th>34.686</th>\n",
       "      <th>34.997</th>\n",
       "      <th>35.639</th>\n",
       "      <th>37.188</th>\n",
       "      <th>38.247</th>\n",
       "    </tr>\n",
       "    <tr>\n",
       "      <th>BP</th>\n",
       "      <th>Cholesterol</th>\n",
       "      <th></th>\n",
       "      <th></th>\n",
       "      <th></th>\n",
       "      <th></th>\n",
       "      <th></th>\n",
       "      <th></th>\n",
       "      <th></th>\n",
       "      <th></th>\n",
       "      <th></th>\n",
       "      <th></th>\n",
       "      <th></th>\n",
       "      <th></th>\n",
       "      <th></th>\n",
       "      <th></th>\n",
       "      <th></th>\n",
       "      <th></th>\n",
       "      <th></th>\n",
       "      <th></th>\n",
       "      <th></th>\n",
       "      <th></th>\n",
       "      <th></th>\n",
       "    </tr>\n",
       "  </thead>\n",
       "  <tbody>\n",
       "    <tr>\n",
       "      <th rowspan=\"2\" valign=\"top\">HIGH</th>\n",
       "      <th>HIGH</th>\n",
       "      <td>NaN</td>\n",
       "      <td>NaN</td>\n",
       "      <td>NaN</td>\n",
       "      <td>NaN</td>\n",
       "      <td>NaN</td>\n",
       "      <td>NaN</td>\n",
       "      <td>NaN</td>\n",
       "      <td>NaN</td>\n",
       "      <td>1.0</td>\n",
       "      <td>NaN</td>\n",
       "      <td>...</td>\n",
       "      <td>NaN</td>\n",
       "      <td>NaN</td>\n",
       "      <td>NaN</td>\n",
       "      <td>NaN</td>\n",
       "      <td>NaN</td>\n",
       "      <td>1.0</td>\n",
       "      <td>NaN</td>\n",
       "      <td>NaN</td>\n",
       "      <td>1.0</td>\n",
       "      <td>NaN</td>\n",
       "    </tr>\n",
       "    <tr>\n",
       "      <th>NORMAL</th>\n",
       "      <td>1.0</td>\n",
       "      <td>NaN</td>\n",
       "      <td>NaN</td>\n",
       "      <td>NaN</td>\n",
       "      <td>NaN</td>\n",
       "      <td>NaN</td>\n",
       "      <td>NaN</td>\n",
       "      <td>NaN</td>\n",
       "      <td>NaN</td>\n",
       "      <td>NaN</td>\n",
       "      <td>...</td>\n",
       "      <td>NaN</td>\n",
       "      <td>1.0</td>\n",
       "      <td>NaN</td>\n",
       "      <td>NaN</td>\n",
       "      <td>NaN</td>\n",
       "      <td>NaN</td>\n",
       "      <td>1.0</td>\n",
       "      <td>1.0</td>\n",
       "      <td>NaN</td>\n",
       "      <td>NaN</td>\n",
       "    </tr>\n",
       "    <tr>\n",
       "      <th rowspan=\"2\" valign=\"top\">LOW</th>\n",
       "      <th>HIGH</th>\n",
       "      <td>NaN</td>\n",
       "      <td>NaN</td>\n",
       "      <td>1.0</td>\n",
       "      <td>NaN</td>\n",
       "      <td>NaN</td>\n",
       "      <td>1.0</td>\n",
       "      <td>NaN</td>\n",
       "      <td>NaN</td>\n",
       "      <td>NaN</td>\n",
       "      <td>NaN</td>\n",
       "      <td>...</td>\n",
       "      <td>NaN</td>\n",
       "      <td>NaN</td>\n",
       "      <td>NaN</td>\n",
       "      <td>1.0</td>\n",
       "      <td>NaN</td>\n",
       "      <td>NaN</td>\n",
       "      <td>NaN</td>\n",
       "      <td>NaN</td>\n",
       "      <td>NaN</td>\n",
       "      <td>1.0</td>\n",
       "    </tr>\n",
       "    <tr>\n",
       "      <th>NORMAL</th>\n",
       "      <td>NaN</td>\n",
       "      <td>NaN</td>\n",
       "      <td>NaN</td>\n",
       "      <td>NaN</td>\n",
       "      <td>NaN</td>\n",
       "      <td>NaN</td>\n",
       "      <td>1.0</td>\n",
       "      <td>NaN</td>\n",
       "      <td>NaN</td>\n",
       "      <td>NaN</td>\n",
       "      <td>...</td>\n",
       "      <td>NaN</td>\n",
       "      <td>NaN</td>\n",
       "      <td>1.0</td>\n",
       "      <td>NaN</td>\n",
       "      <td>1.0</td>\n",
       "      <td>NaN</td>\n",
       "      <td>NaN</td>\n",
       "      <td>NaN</td>\n",
       "      <td>NaN</td>\n",
       "      <td>NaN</td>\n",
       "    </tr>\n",
       "    <tr>\n",
       "      <th>NORMAL</th>\n",
       "      <th>HIGH</th>\n",
       "      <td>NaN</td>\n",
       "      <td>NaN</td>\n",
       "      <td>NaN</td>\n",
       "      <td>NaN</td>\n",
       "      <td>NaN</td>\n",
       "      <td>NaN</td>\n",
       "      <td>NaN</td>\n",
       "      <td>1.0</td>\n",
       "      <td>NaN</td>\n",
       "      <td>1.0</td>\n",
       "      <td>...</td>\n",
       "      <td>1.0</td>\n",
       "      <td>NaN</td>\n",
       "      <td>NaN</td>\n",
       "      <td>NaN</td>\n",
       "      <td>NaN</td>\n",
       "      <td>NaN</td>\n",
       "      <td>NaN</td>\n",
       "      <td>NaN</td>\n",
       "      <td>NaN</td>\n",
       "      <td>NaN</td>\n",
       "    </tr>\n",
       "  </tbody>\n",
       "</table>\n",
       "<p>5 rows × 198 columns</p>\n",
       "</div>"
      ],
      "text/plain": [
       "Na_to_K             6.269   6.683   6.769   7.261   7.285   7.298   7.340   \\\n",
       "BP     Cholesterol                                                           \n",
       "HIGH   HIGH            NaN     NaN     NaN     NaN     NaN     NaN     NaN   \n",
       "       NORMAL          1.0     NaN     NaN     NaN     NaN     NaN     NaN   \n",
       "LOW    HIGH            NaN     NaN     1.0     NaN     NaN     1.0     NaN   \n",
       "       NORMAL          NaN     NaN     NaN     NaN     NaN     NaN     1.0   \n",
       "NORMAL HIGH            NaN     NaN     NaN     NaN     NaN     NaN     NaN   \n",
       "\n",
       "Na_to_K             7.477   7.490   7.761   ...  31.686  31.876  32.922  \\\n",
       "BP     Cholesterol                          ...                           \n",
       "HIGH   HIGH            NaN     1.0     NaN  ...     NaN     NaN     NaN   \n",
       "       NORMAL          NaN     NaN     NaN  ...     NaN     1.0     NaN   \n",
       "LOW    HIGH            NaN     NaN     NaN  ...     NaN     NaN     NaN   \n",
       "       NORMAL          NaN     NaN     NaN  ...     NaN     NaN     1.0   \n",
       "NORMAL HIGH            1.0     NaN     1.0  ...     1.0     NaN     NaN   \n",
       "\n",
       "Na_to_K             33.486  33.542  34.686  34.997  35.639  37.188  38.247  \n",
       "BP     Cholesterol                                                          \n",
       "HIGH   HIGH            NaN     NaN     1.0     NaN     NaN     1.0     NaN  \n",
       "       NORMAL          NaN     NaN     NaN     1.0     1.0     NaN     NaN  \n",
       "LOW    HIGH            1.0     NaN     NaN     NaN     NaN     NaN     1.0  \n",
       "       NORMAL          NaN     1.0     NaN     NaN     NaN     NaN     NaN  \n",
       "NORMAL HIGH            NaN     NaN     NaN     NaN     NaN     NaN     NaN  \n",
       "\n",
       "[5 rows x 198 columns]"
      ]
     },
     "execution_count": 151,
     "metadata": {},
     "output_type": "execute_result"
    }
   ],
   "source": [
    "Drug_Effects.head()"
   ]
  },
  {
   "cell_type": "code",
   "execution_count": 152,
   "id": "a894854c-1a71-45f3-b7e6-4641012e20e5",
   "metadata": {},
   "outputs": [
    {
     "data": {
      "text/html": [
       "<div>\n",
       "<style scoped>\n",
       "    .dataframe tbody tr th:only-of-type {\n",
       "        vertical-align: middle;\n",
       "    }\n",
       "\n",
       "    .dataframe tbody tr th {\n",
       "        vertical-align: top;\n",
       "    }\n",
       "\n",
       "    .dataframe thead th {\n",
       "        text-align: right;\n",
       "    }\n",
       "</style>\n",
       "<table border=\"1\" class=\"dataframe\">\n",
       "  <thead>\n",
       "    <tr style=\"text-align: right;\">\n",
       "      <th></th>\n",
       "      <th>Age</th>\n",
       "      <th>Sex</th>\n",
       "      <th>BP</th>\n",
       "      <th>Cholesterol</th>\n",
       "      <th>Na_to_K</th>\n",
       "      <th>Drug</th>\n",
       "    </tr>\n",
       "  </thead>\n",
       "  <tbody>\n",
       "    <tr>\n",
       "      <th>0</th>\n",
       "      <td>23</td>\n",
       "      <td>F</td>\n",
       "      <td>HIGH</td>\n",
       "      <td>HIGH</td>\n",
       "      <td>25.355</td>\n",
       "      <td>DrugY</td>\n",
       "    </tr>\n",
       "    <tr>\n",
       "      <th>1</th>\n",
       "      <td>47</td>\n",
       "      <td>M</td>\n",
       "      <td>LOW</td>\n",
       "      <td>HIGH</td>\n",
       "      <td>13.093</td>\n",
       "      <td>DrugC</td>\n",
       "    </tr>\n",
       "    <tr>\n",
       "      <th>2</th>\n",
       "      <td>47</td>\n",
       "      <td>M</td>\n",
       "      <td>LOW</td>\n",
       "      <td>HIGH</td>\n",
       "      <td>10.114</td>\n",
       "      <td>DrugC</td>\n",
       "    </tr>\n",
       "    <tr>\n",
       "      <th>3</th>\n",
       "      <td>28</td>\n",
       "      <td>F</td>\n",
       "      <td>NORMAL</td>\n",
       "      <td>HIGH</td>\n",
       "      <td>7.798</td>\n",
       "      <td>DrugX</td>\n",
       "    </tr>\n",
       "    <tr>\n",
       "      <th>4</th>\n",
       "      <td>61</td>\n",
       "      <td>F</td>\n",
       "      <td>LOW</td>\n",
       "      <td>HIGH</td>\n",
       "      <td>18.043</td>\n",
       "      <td>DrugY</td>\n",
       "    </tr>\n",
       "  </tbody>\n",
       "</table>\n",
       "</div>"
      ],
      "text/plain": [
       "   Age Sex      BP Cholesterol  Na_to_K   Drug\n",
       "0   23   F    HIGH        HIGH   25.355  DrugY\n",
       "1   47   M     LOW        HIGH   13.093  DrugC\n",
       "2   47   M     LOW        HIGH   10.114  DrugC\n",
       "3   28   F  NORMAL        HIGH    7.798  DrugX\n",
       "4   61   F     LOW        HIGH   18.043  DrugY"
      ]
     },
     "execution_count": 152,
     "metadata": {},
     "output_type": "execute_result"
    }
   ],
   "source": [
    "df.head()"
   ]
  },
  {
   "cell_type": "code",
   "execution_count": 153,
   "id": "62bfdd49-b3fc-446f-9677-cfc5b39dd720",
   "metadata": {},
   "outputs": [
    {
     "data": {
      "text/plain": [
       "(array([0, 1]), [Text(0, 0, 'F'), Text(1, 0, 'M')])"
      ]
     },
     "execution_count": 153,
     "metadata": {},
     "output_type": "execute_result"
    },
    {
     "data": {
      "image/png": "[encoded data removed]",
      "text/plain": [
       "<Figure size 864x360 with 1 Axes>"
      ]
     },
     "metadata": {},
     "output_type": "display_data"
    }
   ],
   "source": [
    "pd.crosstab(df.Sex,df.Drug).plot(kind=\"bar\",figsize=(12,5))\n",
    "plt.title('Drug Distribution across Males and Females')\n",
    "plt.xticks(rotation=0)"
   ]
  },
  {
   "cell_type": "code",
   "execution_count": 154,
   "id": "9f3851cd-bce3-436d-9b0e-0095fc78dbf4",
   "metadata": {},
   "outputs": [
    {
     "data": {
      "text/html": [
       "<div>\n",
       "<style scoped>\n",
       "    .dataframe tbody tr th:only-of-type {\n",
       "        vertical-align: middle;\n",
       "    }\n",
       "\n",
       "    .dataframe tbody tr th {\n",
       "        vertical-align: top;\n",
       "    }\n",
       "\n",
       "    .dataframe thead th {\n",
       "        text-align: right;\n",
       "    }\n",
       "</style>\n",
       "<table border=\"1\" class=\"dataframe\">\n",
       "  <thead>\n",
       "    <tr style=\"text-align: right;\">\n",
       "      <th></th>\n",
       "      <th>Age</th>\n",
       "      <th>Na_to_K</th>\n",
       "    </tr>\n",
       "  </thead>\n",
       "  <tbody>\n",
       "    <tr>\n",
       "      <th>count</th>\n",
       "      <td>200.000000</td>\n",
       "      <td>200.000000</td>\n",
       "    </tr>\n",
       "    <tr>\n",
       "      <th>mean</th>\n",
       "      <td>44.315000</td>\n",
       "      <td>16.084485</td>\n",
       "    </tr>\n",
       "    <tr>\n",
       "      <th>std</th>\n",
       "      <td>16.544315</td>\n",
       "      <td>7.223956</td>\n",
       "    </tr>\n",
       "    <tr>\n",
       "      <th>min</th>\n",
       "      <td>15.000000</td>\n",
       "      <td>6.269000</td>\n",
       "    </tr>\n",
       "    <tr>\n",
       "      <th>25%</th>\n",
       "      <td>31.000000</td>\n",
       "      <td>10.445500</td>\n",
       "    </tr>\n",
       "    <tr>\n",
       "      <th>50%</th>\n",
       "      <td>45.000000</td>\n",
       "      <td>13.936500</td>\n",
       "    </tr>\n",
       "    <tr>\n",
       "      <th>75%</th>\n",
       "      <td>58.000000</td>\n",
       "      <td>19.380000</td>\n",
       "    </tr>\n",
       "    <tr>\n",
       "      <th>max</th>\n",
       "      <td>74.000000</td>\n",
       "      <td>38.247000</td>\n",
       "    </tr>\n",
       "  </tbody>\n",
       "</table>\n",
       "</div>"
      ],
      "text/plain": [
       "              Age     Na_to_K\n",
       "count  200.000000  200.000000\n",
       "mean    44.315000   16.084485\n",
       "std     16.544315    7.223956\n",
       "min     15.000000    6.269000\n",
       "25%     31.000000   10.445500\n",
       "50%     45.000000   13.936500\n",
       "75%     58.000000   19.380000\n",
       "max     74.000000   38.247000"
      ]
     },
     "execution_count": 154,
     "metadata": {},
     "output_type": "execute_result"
    }
   ],
   "source": [
    "df.describe()"
   ]
  },
  {
   "cell_type": "code",
   "execution_count": 155,
   "id": "b1e2bd85-7dba-441a-9752-39272bff0877",
   "metadata": {},
   "outputs": [],
   "source": [
    "def get_summary_statistics(dataset):\n",
    "    \n",
    "    mean = np.round(np.mean(dataset), 2)\n",
    "    median = np.round(np.median(dataset), 2)\n",
    "    min_value = np.round(dataset.min(), 2)\n",
    "    max_value = np.round(dataset.max(), 2)\n",
    "    quartile_1 = np.round(dataset.quantile(0.25), 2)\n",
    "    quartile_3 = np.round(dataset.quantile(0.75), 2)\n",
    "    print('Min: %s' % min_value)\n",
    "    print('Mean: %s' % mean)\n",
    "    print('Max: %s' % max_value)\n",
    "    print('25th percentile: %s' % quartile_1)\n",
    "    print('Median: %s' % median)\n",
    "    print('75th percentile: %s' % quartile_3)"
   ]
  },
  {
   "cell_type": "code",
   "execution_count": 156,
   "id": "e9db8043-59bc-4d6b-ab77-281a4cb71037",
   "metadata": {},
   "outputs": [
    {
     "name": "stdout",
     "output_type": "stream",
     "text": [
      "Min: 15\n",
      "Mean: 44.32\n",
      "Max: 74\n",
      "25th percentile: 31.0\n",
      "Median: 45.0\n",
      "75th percentile: 58.0\n"
     ]
    }
   ],
   "source": [
    "get_summary_statistics(df['Age'])"
   ]
  },
  {
   "cell_type": "code",
   "execution_count": 157,
   "id": "ed452b25-0d17-4b49-b320-75685e972133",
   "metadata": {},
   "outputs": [
    {
     "data": {
      "text/plain": [
       "Text(0.5, 1.0, 'Min-Max and Quartiles of the Age column in Dataset')"
      ]
     },
     "execution_count": 157,
     "metadata": {},
     "output_type": "execute_result"
    },
    {
     "data": {
      "image/png": "[encoded data removed]",
      "text/plain": [
       "<Figure size 432x288 with 1 Axes>"
      ]
     },
     "metadata": {},
     "output_type": "display_data"
    }
   ],
   "source": [
    "ax = sns.boxplot(x='Age',data=df,hue='Sex')\n",
    "plt.title('Min-Max and Quartiles of the Age column in Dataset')"
   ]
  },
  {
   "cell_type": "markdown",
   "id": "cdf6de70-4279-45fe-adfc-47341b5f1988",
   "metadata": {},
   "source": [
    "# *Insights*:\n",
    "### Min Age: 15\n",
    "### Mean Age: 44\n",
    "### Max Age: 74\n",
    "### 25th percentile of the patients are : 31 years old\n",
    "### The Median age is: 45\n",
    "### 75th percentile of the patients are : 58 years old"
   ]
  },
  {
   "cell_type": "code",
   "execution_count": 158,
   "id": "9fe41327-a51d-4195-8cf9-44af09bf571a",
   "metadata": {},
   "outputs": [
    {
     "data": {
      "text/plain": [
       "Text(0.5, 1.0, 'Count of Types of Drugs distributed among the patients')"
      ]
     },
     "execution_count": 158,
     "metadata": {},
     "output_type": "execute_result"
    },
    {
     "data": {
      "image/png": "[encoded data removed]",
      "text/plain": [
       "<Figure size 432x288 with 1 Axes>"
      ]
     },
     "metadata": {},
     "output_type": "display_data"
    }
   ],
   "source": [
    "ax = sns.countplot(x='Drug',data=df,hue='Sex')\n",
    "for p in ax.patches:\n",
    "   ax.annotate('{:.1f}'.format(p.get_height()), (p.get_x()+0.01, p.get_height()+0.10))\n",
    "plt.title(\"Count of Types of Drugs distributed among the patients\")"
   ]
  },
  {
   "cell_type": "code",
   "execution_count": 159,
   "id": "d9015793-27cb-46c3-992e-be8b3f251d0c",
   "metadata": {},
   "outputs": [
    {
     "data": {
      "text/plain": [
       "count    200.000000\n",
       "mean      16.084485\n",
       "std        7.223956\n",
       "min        6.269000\n",
       "25%       10.445500\n",
       "50%       13.936500\n",
       "75%       19.380000\n",
       "max       38.247000\n",
       "Name: Na_to_K, dtype: float64"
      ]
     },
     "execution_count": 159,
     "metadata": {},
     "output_type": "execute_result"
    }
   ],
   "source": [
    "df['Na_to_K'].describe()"
   ]
  },
  {
   "cell_type": "code",
   "execution_count": 160,
   "id": "fb0f8ce6-1d74-4e7b-ac95-9616e3e09e43",
   "metadata": {},
   "outputs": [
    {
     "data": {
      "text/plain": [
       "Text(0.5, 1.0, 'Sodium to Potassium ratio among the patients')"
      ]
     },
     "execution_count": 160,
     "metadata": {},
     "output_type": "execute_result"
    },
    {
     "data": {
      "image/png": "[encoded data removed]",
      "text/plain": [
       "<Figure size 432x288 with 1 Axes>"
      ]
     },
     "metadata": {},
     "output_type": "display_data"
    }
   ],
   "source": [
    "sns.boxplot(x='Na_to_K',data=df)\n",
    "plt.title('Sodium to Potassium ratio among the patients')"
   ]
  },
  {
   "cell_type": "markdown",
   "id": "9e2bc2ef-845c-4479-af13-635e9cfc7bb2",
   "metadata": {},
   "source": [
    "## Effects of having a *sodium-potassium* ratio either too large or too small:\n",
    "### A sodium-potassium ratio that is too large or too small may produce certain pathological conditions that can lead to health concerns, such as problems with the cardiovascular system and adrenal glands."
   ]
  },
  {
   "cell_type": "code",
   "execution_count": 161,
   "id": "a3f48fed-c160-4f43-a545-681d94285a4b",
   "metadata": {},
   "outputs": [],
   "source": [
    "import plotly.express as px\n",
    "import plotly.figure_factory as ff\n",
    "import plotly.graph_objects as go\n",
    "import plotly.express as px\n",
    "import plotly.graph_objects as go\n",
    "from plotly.subplots import make_subplots\n",
    "colors = ['#494BD3', '#E28AE2', '#F1F481', '#79DB80', '#DF5F5F',\n",
    "              '#69DADE', '#C2E37D', '#E26580', '#D39F49', '#B96FE3']\n",
    "from plotly.offline import init_notebook_mode, iplot"
   ]
  },
  {
   "cell_type": "code",
   "execution_count": 162,
   "id": "2631589e-b898-4576-9f6c-78fba992dc8d",
   "metadata": {},
   "outputs": [],
   "source": [
    "df.loc[(df['Na_to_K'] < 29) & (df['Na_to_K'] > 24.5), 'New_Na_to_K'] = 'Good Na/K'\n",
    "df.loc[(df['Na_to_K'] > 29) | (df['Na_to_K'] < 24.5),'New_Na_to_K'] = 'Bad Na/K'"
   ]
  },
  {
   "cell_type": "code",
   "execution_count": 163,
   "id": "b2813d06-5cf0-4f2d-b969-bc447a8de3b6",
   "metadata": {},
   "outputs": [
    {
     "data": {
      "text/html": [
       "<div>\n",
       "<style scoped>\n",
       "    .dataframe tbody tr th:only-of-type {\n",
       "        vertical-align: middle;\n",
       "    }\n",
       "\n",
       "    .dataframe tbody tr th {\n",
       "        vertical-align: top;\n",
       "    }\n",
       "\n",
       "    .dataframe thead th {\n",
       "        text-align: right;\n",
       "    }\n",
       "</style>\n",
       "<table border=\"1\" class=\"dataframe\">\n",
       "  <thead>\n",
       "    <tr style=\"text-align: right;\">\n",
       "      <th></th>\n",
       "      <th>Age</th>\n",
       "      <th>Sex</th>\n",
       "      <th>BP</th>\n",
       "      <th>Cholesterol</th>\n",
       "      <th>Na_to_K</th>\n",
       "      <th>Drug</th>\n",
       "      <th>New_Na_to_K</th>\n",
       "    </tr>\n",
       "  </thead>\n",
       "  <tbody>\n",
       "    <tr>\n",
       "      <th>0</th>\n",
       "      <td>23</td>\n",
       "      <td>F</td>\n",
       "      <td>HIGH</td>\n",
       "      <td>HIGH</td>\n",
       "      <td>25.355</td>\n",
       "      <td>DrugY</td>\n",
       "      <td>Good Na/K</td>\n",
       "    </tr>\n",
       "    <tr>\n",
       "      <th>1</th>\n",
       "      <td>47</td>\n",
       "      <td>M</td>\n",
       "      <td>LOW</td>\n",
       "      <td>HIGH</td>\n",
       "      <td>13.093</td>\n",
       "      <td>DrugC</td>\n",
       "      <td>Bad Na/K</td>\n",
       "    </tr>\n",
       "    <tr>\n",
       "      <th>2</th>\n",
       "      <td>47</td>\n",
       "      <td>M</td>\n",
       "      <td>LOW</td>\n",
       "      <td>HIGH</td>\n",
       "      <td>10.114</td>\n",
       "      <td>DrugC</td>\n",
       "      <td>Bad Na/K</td>\n",
       "    </tr>\n",
       "    <tr>\n",
       "      <th>3</th>\n",
       "      <td>28</td>\n",
       "      <td>F</td>\n",
       "      <td>NORMAL</td>\n",
       "      <td>HIGH</td>\n",
       "      <td>7.798</td>\n",
       "      <td>DrugX</td>\n",
       "      <td>Bad Na/K</td>\n",
       "    </tr>\n",
       "    <tr>\n",
       "      <th>4</th>\n",
       "      <td>61</td>\n",
       "      <td>F</td>\n",
       "      <td>LOW</td>\n",
       "      <td>HIGH</td>\n",
       "      <td>18.043</td>\n",
       "      <td>DrugY</td>\n",
       "      <td>Bad Na/K</td>\n",
       "    </tr>\n",
       "  </tbody>\n",
       "</table>\n",
       "</div>"
      ],
      "text/plain": [
       "   Age Sex      BP Cholesterol  Na_to_K   Drug New_Na_to_K\n",
       "0   23   F    HIGH        HIGH   25.355  DrugY   Good Na/K\n",
       "1   47   M     LOW        HIGH   13.093  DrugC    Bad Na/K\n",
       "2   47   M     LOW        HIGH   10.114  DrugC    Bad Na/K\n",
       "3   28   F  NORMAL        HIGH    7.798  DrugX    Bad Na/K\n",
       "4   61   F     LOW        HIGH   18.043  DrugY    Bad Na/K"
      ]
     },
     "execution_count": 163,
     "metadata": {},
     "output_type": "execute_result"
    }
   ],
   "source": [
    "df.head()"
   ]
  },
  {
   "cell_type": "code",
   "execution_count": 164,
   "id": "15966d75-ceb5-4378-a710-28664ce68130",
   "metadata": {},
   "outputs": [
    {
     "data": {
      "text/plain": [
       "Text(0.5, 1.0, 'Good Sodium-Potassium ratio vs Bad Sodium-Potassium ratio')"
      ]
     },
     "execution_count": 164,
     "metadata": {},
     "output_type": "execute_result"
    },
    {
     "data": {
      "image/png": "[encoded data removed]",
      "text/plain": [
       "<Figure size 432x288 with 1 Axes>"
      ]
     },
     "metadata": {},
     "output_type": "display_data"
    }
   ],
   "source": [
    "ax1 = sns.countplot(x='New_Na_to_K',data=df,hue='Sex')\n",
    "for p in ax1.patches:\n",
    "   ax1.annotate('{:.1f}'.format(p.get_height()), (p.get_x()+0.15, p.get_height()+0.5))\n",
    "plt.title('Good Sodium-Potassium ratio vs Bad Sodium-Potassium ratio')"
   ]
  },
  {
   "cell_type": "markdown",
   "id": "40859c01-d04b-4539-a437-417ea6b5f357",
   "metadata": {
    "tags": []
   },
   "source": [
    "## *Insights*:\n",
    "### - A large group of patients have a Bad Na/K ratio"
   ]
  },
  {
   "cell_type": "code",
   "execution_count": 201,
   "id": "45e2a258-5073-4172-aa3b-48af55b2b181",
   "metadata": {},
   "outputs": [
    {
     "data": {
      "text/plain": [
       "Drug   New_Na_to_K\n",
       "DrugA  Bad Na/K       23\n",
       "DrugB  Bad Na/K       16\n",
       "DrugC  Bad Na/K       16\n",
       "DrugX  Bad Na/K       54\n",
       "DrugY  Bad Na/K       74\n",
       "dtype: int64"
      ]
     },
     "execution_count": 201,
     "metadata": {},
     "output_type": "execute_result"
    }
   ],
   "source": [
    "df1 =df.groupby(['Drug','New_Na_to_K']).size()\n",
    "df1.head()"
   ]
  },
  {
   "cell_type": "code",
   "execution_count": 211,
   "id": "a47a6e51-48b1-4a63-bc8d-7c63502d600d",
   "metadata": {},
   "outputs": [
    {
     "data": {
      "text/plain": [
       "Text(0.5, 1.0, 'Comparison of drugs given to Patients with good and bad Na/K ratio')"
      ]
     },
     "execution_count": 211,
     "metadata": {},
     "output_type": "execute_result"
    },
    {
     "data": {
      "image/png": "[encoded data removed]",
      "text/plain": [
       "<Figure size 1080x720 with 1 Axes>"
      ]
     },
     "metadata": {},
     "output_type": "display_data"
    }
   ],
   "source": [
    "df1.plot(figsize = (15,10),kind='bar')\n",
    "plt.xticks(rotation=0)\n",
    "plt.title('Comparison of drugs given to Patients with good and bad Na/K ratio')"
   ]
  },
  {
   "cell_type": "markdown",
   "id": "8b7357f3-6a03-4326-92a6-6100e385b7cd",
   "metadata": {},
   "source": [
    "## *Insights*:\n",
    "### - Most of the drug types were used to treat patients with bad Na/K ratio.\n",
    "### - Drug Y in contrast is the only drug that was given to patients with good Na/K ratio."
   ]
  },
  {
   "cell_type": "code",
   "execution_count": 219,
   "id": "abba9ecf-f7c8-4d22-8912-efbc9a2c2cee",
   "metadata": {},
   "outputs": [
    {
     "data": {
      "text/plain": [
       "Drug   BP    \n",
       "DrugA  HIGH      23\n",
       "DrugB  HIGH      16\n",
       "DrugC  LOW       16\n",
       "DrugX  LOW       18\n",
       "       NORMAL    36\n",
       "dtype: int64"
      ]
     },
     "execution_count": 219,
     "metadata": {},
     "output_type": "execute_result"
    }
   ],
   "source": [
    "df2 =df.groupby(['Drug','BP']).size()\n",
    "df2.head()"
   ]
  },
  {
   "cell_type": "code",
   "execution_count": 220,
   "id": "2030b7a9-4223-4641-8101-9cdbf6912851",
   "metadata": {},
   "outputs": [
    {
     "data": {
      "text/plain": [
       "Text(0.5, 1.0, 'Comparison of drugs given to Patients with different levels of BP')"
      ]
     },
     "execution_count": 220,
     "metadata": {},
     "output_type": "execute_result"
    },
    {
     "data": {
      "image/png": "[encoded data removed]",
      "text/plain": [
       "<Figure size 1080x720 with 1 Axes>"
      ]
     },
     "metadata": {},
     "output_type": "display_data"
    }
   ],
   "source": [
    "df2.plot(figsize = (15,10),kind='bar')\n",
    "plt.xticks(rotation=0)\n",
    "plt.title('Comparison of drugs given to Patients with different levels of BP')"
   ]
  },
  {
   "cell_type": "markdown",
   "id": "1d5c6587-80f9-41d4-9e19-ec16ec59d31a",
   "metadata": {},
   "source": [
    "## *Insights*:\n",
    "### - There are more occurences of Drug Y in treating patients with BP levels ranging from LOW to HIGH.\n",
    "### - Drug X's use was excluded in treating patients with High BP level\n",
    "### - Drug X and Drug Y may have some common characteristics in their Formula."
   ]
  },
  {
   "cell_type": "code",
   "execution_count": null,
   "id": "55374d34-2a05-45b5-90c2-4676c00ca618",
   "metadata": {},
   "outputs": [],
   "source": []
  }
 ],
 "metadata": {
  "kernelspec": {
   "display_name": "Python 3 (ipykernel)",
   "language": "python",
   "name": "python3"
  },
  "language_info": {
   "codemirror_mode": {
    "name": "ipython",
    "version": 3
   },
   "file_extension": ".py",
   "mimetype": "text/x-python",
   "name": "python",
   "nbconvert_exporter": "python",
   "pygments_lexer": "ipython3",
   "version": "3.10.9"
  }
 },
 "nbformat": 4,
 "nbformat_minor": 5
}
